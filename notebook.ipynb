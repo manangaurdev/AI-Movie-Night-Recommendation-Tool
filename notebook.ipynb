{
 "cells": [
  {
   "cell_type": "markdown",
   "id": "8c8fde4c-9222-4265-b72b-8d7693520250",
   "metadata": {},
   "source": [
    "# Code-along 2025-01-15 Build an AI Movie Night Recommendation Tool\n"
   ]
  },
  {
   "cell_type": "markdown",
   "id": "3e302e1c-4c18-4c44-87fd-ba935c3a0853",
   "metadata": {},
   "source": [
    "In this code-along, we will be building an AI Movie Night Recommendation Tool! \n",
    "\n",
    "To do this, we will be using two data sets: \n",
    "- Movies metadata: A data set containing metadata of about 9000 movies (title, description, etc.)\n",
    "- User ratings: A data set containing ratings of how much someone liked a movie. \n",
    "\n",
    "We will be building towards our end goal by covering the following tasks: \n",
    "- Understanding the data set by doing some basic exploratory analysis \n",
    "- Building a first recommender based on movie popularity or movie ratings \n",
    "- Personalising recommendations by exploiting user ratings \n",
    "- Leveraging LLMs to calculate similarity between movies \n",
    "- Generating a recommendation by writing what kind of movies you'd like to see \n",
    "- Putting it all together into one single recommendation tool\n",
    "\n",
    "This code-along is aimed at anyone just starting to code by showing how you can build something useful by simply writing prompts to analyse data sets. The code generated is sufficiently challenging, however, for the more seasoned data person to play around with."
   ]
  },
  {
   "cell_type": "markdown",
   "id": "7f6c51c7-bbbb-4f0f-b218-850221f3dcdf",
   "metadata": {},
   "source": [
    "## Task 1: Import the ratings and movie metadata and explore it. "
   ]
  },
  {
   "cell_type": "markdown",
   "id": "fce00845-9741-4979-91aa-e43ff0db5299",
   "metadata": {},
   "source": [
    "The data is contained in two CSV files named `movies_metadata.csv` and `ratings.csv`\n",
    "\n",
    "`movies_metadata` contains the following columns: \n",
    "\n",
    "- `movie_id`: Unique identifier of each movie. \n",
    "- `title`: Title of the movie. \n",
    "- `overview`: Short description of the movie. \n",
    "- `vote_average`: Average score the movie got.\n",
    "- `vote_count`: Total number of votes the movie got. \n",
    "\n",
    "`ratings` contains the following columns: \n",
    "\n",
    "- `user_id`: Unique identifier of the person who rated the movie. \n",
    "- `movie_id`: Unique identifier of the movie. \n",
    "- `rating`: Value between 0 and 10 indicating how much the person liked the movie. "
   ]
  },
  {
   "cell_type": "code",
   "execution_count": null,
   "id": "e10ce230",
   "metadata": {
    "vscode": {
     "languageId": "plaintext"
    }
   },
   "outputs": [],
   "source": []
  },
  {
   "cell_type": "markdown",
   "id": "fe638c17-1981-4612-b9e5-5d0370369ffe",
   "metadata": {},
   "source": [
    "### Prompt\n",
    "\n",
    "Read the movies_metadata file and count how many unique movies there are, visualise the vote_average column and visualise the vote_count column. Next read the ratings file, and count how many unique users have rated how many unique movies. Visualise the distribution of the rating column."
   ]
  },
  {
   "cell_type": "markdown",
   "id": "65454beb-970f-4af6-a04c-798b9f665b6f",
   "metadata": {},
   "source": [
    "## Task 2: Simple recommender based on popularity or highest rating"
   ]
  },
  {
   "cell_type": "markdown",
   "id": "f09ce489-883d-4558-a063-d964eedb425e",
   "metadata": {},
   "source": [
    "In short, a recommender is any system that generates suggestions for an end user. We will start with creating the simplest recommender, one that ranks all movies according to the highest average score, or the highest number of votes. \n",
    "\n",
    "This kind of recommender generates the same output for anyone using it. "
   ]
  },
  {
   "cell_type": "markdown",
   "id": "a3a763b8-9f34-4db7-bb7f-2918680cac58",
   "metadata": {},
   "source": [
    "### Prompt\n",
    "\n",
    "Based on movies_metadata, generate a simple recommender that generates recommended movies by either the vote_average or the vote_count. The recommender should be configurable in how many movies it recommends and based on which criterion. "
   ]
  },
  {
   "cell_type": "markdown",
   "id": "180f4935-0196-4654-b755-2893a9715ec3",
   "metadata": {},
   "source": [
    "## Task 3: Generate recommendations based on user ratings"
   ]
  },
  {
   "cell_type": "markdown",
   "id": "c57abcce-23b4-4079-b31d-9511111572eb",
   "metadata": {},
   "source": [
    "We already created a very simple first recommender, but we haven't touched our user data yet! How can this help us? When you watched a movie you liked, you might want to learn which other movies other users liked that also watched that movie. This is where the user data comes in. We can use the ratings to infer which movies are similar to a movie you have already watched! "
   ]
  },
  {
   "cell_type": "markdown",
   "id": "eaeddea5-be51-4f8c-8f4a-cb78f5362f56",
   "metadata": {},
   "source": [
    "### Prompt\n",
    "Create a recommender that uses the ratings data and generates movie recommendations when you put in a specific movie title."
   ]
  },
  {
   "cell_type": "markdown",
   "id": "c4e32674-4d3f-4a69-9fcd-b2179ed1c420",
   "metadata": {},
   "source": [
    "## Task 4: Generate embeddings based on the movie descriptions"
   ]
  },
  {
   "cell_type": "markdown",
   "id": "99810448-ac43-4bad-83c9-b28560e0ce29",
   "metadata": {},
   "source": [
    "So far, we already created two recommenders! One that didn't take into account your preferences, and one that suggested movies based on similarity to a movie you already saw. Now, we will get creative and let you write a summary of the kind of move you'd like to watch to get recommendations back! \n",
    "\n",
    "In order to do this, we will rely on a concept called *embeddings*. In a nutshell, embeddings are numerical representations of a piece of text and they are critical to the success of the most recent generation of AI models, like ChatGPT. We will take the description of our movies and convert these to their embedded form. "
   ]
  },
  {
   "cell_type": "markdown",
   "id": "8b5793e4-e749-4bf1-82ea-14e610c97811",
   "metadata": {},
   "source": [
    "### Prompt\n",
    "Take the overview field from movies_metadata. These are short descriptions from movies. Use a simple local llm model to generate embeddings for each movie "
   ]
  },
  {
   "cell_type": "markdown",
   "id": "88e5391e-95b0-4000-9361-c6fedf37e5f1",
   "metadata": {},
   "source": [
    "## Task 5: Use embedding simillarity to generate recommendations"
   ]
  },
  {
   "cell_type": "markdown",
   "id": "4824d6b1-7888-4494-829e-d28274003240",
   "metadata": {},
   "source": [
    "Now we are ready to create a new recommender function where we submit a description of a movie we want to watch and get recommendations back. "
   ]
  },
  {
   "cell_type": "markdown",
   "id": "f81beff4-5d6b-459e-b6c5-1e31faab3d12",
   "metadata": {},
   "source": [
    "### Prompt\n",
    "Create a recommender that takes the embeddings in movies_metadata and a user-generated input that describes a movie they'd like to watch. Calculate the similarity between the embedding of that description with all movie embeddings and return the top n most similar movies."
   ]
  },
  {
   "cell_type": "markdown",
   "id": "9d2ed330-0afc-4774-ab08-bbf2557d8a04",
   "metadata": {},
   "source": [
    "## Task 6: Put it all together into a single function"
   ]
  },
  {
   "cell_type": "markdown",
   "id": "baf7a875-f891-413a-8fb8-bcd34096ddb6",
   "metadata": {},
   "source": [
    "In this final task, we will be putting all previous recommenders together into one single function that will allow you to generate an awesome movie night! "
   ]
  },
  {
   "cell_type": "markdown",
   "id": "9fcfa41f-4e6c-4c50-a83b-c7d83967298d",
   "metadata": {},
   "source": [
    "### Prompt\n",
    "Combine the three different recommenders we used before, the first one being a recommender based on vote_average or vote_count, the second one based on the ratings data where the most similar movies would be returned for a given movie title, and the third one being a recommender based on the movie embeddings that are most similar to a user-generated prompt. One of the three options should be returned.\n"
   ]
  }
 ],
 "metadata": {
  "colab": {
   "name": "Welcome to DataCamp Workspaces.ipynb",
   "provenance": []
  },
  "kernelspec": {
   "display_name": "Python 3 (ipykernel)",
   "language": "python",
   "name": "python3"
  },
  "language_info": {
   "codemirror_mode": {
    "name": "ipython",
    "version": 3
   },
   "file_extension": ".py",
   "mimetype": "text/x-python",
   "name": "python",
   "nbconvert_exporter": "python",
   "pygments_lexer": "ipython3",
   "version": "3.8.10"
  }
 },
 "nbformat": 4,
 "nbformat_minor": 5
}
